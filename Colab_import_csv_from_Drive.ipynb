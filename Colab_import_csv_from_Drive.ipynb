{
  "nbformat": 4,
  "nbformat_minor": 0,
  "metadata": {
    "colab": {
      "name": "Colab : import csv from Drive.ipynb",
      "version": "0.3.2",
      "provenance": []
    },
    "kernelspec": {
      "name": "python3",
      "display_name": "Python 3"
    }
  },
  "cells": [
    {
      "metadata": {
        "id": "-oEU6g3Vg-KY",
        "colab_type": "text"
      },
      "cell_type": "markdown",
      "source": [
        "# Import csv from Google Drive via PyDrive"
      ]
    },
    {
      "metadata": {
        "id": "O0f0KgIqmliA",
        "colab_type": "text"
      },
      "cell_type": "markdown",
      "source": [
        "Follow this steps to import csv files to Colab."
      ]
    },
    {
      "metadata": {
        "id": "wHZ86WMShHtX",
        "colab_type": "code",
        "colab": {}
      },
      "cell_type": "code",
      "source": [
        "!pip install -U -q PyDrive"
      ],
      "execution_count": 0,
      "outputs": []
    },
    {
      "metadata": {
        "id": "VHOvvgI6hVhc",
        "colab_type": "code",
        "colab": {}
      },
      "cell_type": "code",
      "source": [
        "from pydrive.auth import GoogleAuth\n",
        "from pydrive.drive import GoogleDrive\n",
        "from google.colab import auth\n",
        "from oauth2client.client import GoogleCredentials"
      ],
      "execution_count": 0,
      "outputs": []
    },
    {
      "metadata": {
        "id": "EonK-PTbhf6j",
        "colab_type": "text"
      },
      "cell_type": "markdown",
      "source": [
        "# Authenticate and create the PyDrive client"
      ]
    },
    {
      "metadata": {
        "id": "rwComZ4ehh4B",
        "colab_type": "code",
        "colab": {}
      },
      "cell_type": "code",
      "source": [
        "auth.authenticate_user()\n",
        "gauth = GoogleAuth()\n",
        "gauth.credentials = GoogleCredentials.get_application_default()\n",
        "drive = GoogleDrive(gauth)"
      ],
      "execution_count": 0,
      "outputs": []
    },
    {
      "metadata": {
        "id": "F8dXZg9UjjCE",
        "colab_type": "text"
      },
      "cell_type": "markdown",
      "source": [
        "# Get shareable link"
      ]
    },
    {
      "metadata": {
        "id": "0srvaMOCjlH6",
        "colab_type": "code",
        "colab": {}
      },
      "cell_type": "code",
      "source": [
        "link_to_csv = \"https://drive.google.com/open?id=1sYEyqWbodiUj-o-WE4c-Oc6-Q2ys4V5c\""
      ],
      "execution_count": 0,
      "outputs": []
    },
    {
      "metadata": {
        "id": "lJ7_HQczksPr",
        "colab_type": "text"
      },
      "cell_type": "markdown",
      "source": [
        "Select the id portion after the equal sign. To get that portion, type in the following code:"
      ]
    },
    {
      "metadata": {
        "id": "U-sWwXhxkx7N",
        "colab_type": "code",
        "colab": {
          "base_uri": "https://localhost:8080/",
          "height": 34
        },
        "outputId": "8eaf48e5-c305-4a54-e92e-c02d83156b19"
      },
      "cell_type": "code",
      "source": [
        "waste, id = link_to_csv.split('=')\n",
        "\n",
        "# Check that you have everything after '='\n",
        "print(id)"
      ],
      "execution_count": 13,
      "outputs": [
        {
          "output_type": "stream",
          "text": [
            "1sYEyqWbodiUj-o-WE4c-Oc6-Q2ys4V5c\n"
          ],
          "name": "stdout"
        }
      ]
    },
    {
      "metadata": {
        "id": "vul-yPhSlj-U",
        "colab_type": "text"
      },
      "cell_type": "markdown",
      "source": [
        "# Import to Pandas"
      ]
    },
    {
      "metadata": {
        "id": "FAiG4e07lnFP",
        "colab_type": "code",
        "colab": {}
      },
      "cell_type": "code",
      "source": [
        "import pandas as pd"
      ],
      "execution_count": 0,
      "outputs": []
    },
    {
      "metadata": {
        "id": "XaBXRAStlrMp",
        "colab_type": "code",
        "colab": {
          "base_uri": "https://localhost:8080/",
          "height": 195
        },
        "outputId": "6a6d66ed-76b2-43d5-a339-a25c67fbe061"
      },
      "cell_type": "code",
      "source": [
        "downloaded = drive.CreateFile({'id':id}) \n",
        "downloaded.GetContentFile('Filename.csv')  \n",
        "stats = pd.read_csv('Filename.csv')\n",
        "stats.head()"
      ],
      "execution_count": 17,
      "outputs": [
        {
          "output_type": "execute_result",
          "data": {
            "text/html": [
              "<div>\n",
              "<style scoped>\n",
              "    .dataframe tbody tr th:only-of-type {\n",
              "        vertical-align: middle;\n",
              "    }\n",
              "\n",
              "    .dataframe tbody tr th {\n",
              "        vertical-align: top;\n",
              "    }\n",
              "\n",
              "    .dataframe thead th {\n",
              "        text-align: right;\n",
              "    }\n",
              "</style>\n",
              "<table border=\"1\" class=\"dataframe\">\n",
              "  <thead>\n",
              "    <tr style=\"text-align: right;\">\n",
              "      <th></th>\n",
              "      <th>Custommer ID</th>\n",
              "      <th>Name</th>\n",
              "      <th>Surname</th>\n",
              "      <th>Gender</th>\n",
              "      <th>Age</th>\n",
              "      <th>Age Group</th>\n",
              "      <th>Height</th>\n",
              "      <th>Region</th>\n",
              "    </tr>\n",
              "  </thead>\n",
              "  <tbody>\n",
              "    <tr>\n",
              "      <th>0</th>\n",
              "      <td>100001</td>\n",
              "      <td>Zoe</td>\n",
              "      <td>Clarkson</td>\n",
              "      <td>Female</td>\n",
              "      <td>59</td>\n",
              "      <td>50</td>\n",
              "      <td>62.0</td>\n",
              "      <td>Scotland</td>\n",
              "    </tr>\n",
              "    <tr>\n",
              "      <th>1</th>\n",
              "      <td>100002</td>\n",
              "      <td>Carolyn</td>\n",
              "      <td>Donald</td>\n",
              "      <td>Female</td>\n",
              "      <td>58</td>\n",
              "      <td>50</td>\n",
              "      <td>61.2</td>\n",
              "      <td>Scotland</td>\n",
              "    </tr>\n",
              "    <tr>\n",
              "      <th>2</th>\n",
              "      <td>100003</td>\n",
              "      <td>Anna</td>\n",
              "      <td>Chapman</td>\n",
              "      <td>Female</td>\n",
              "      <td>26</td>\n",
              "      <td>20</td>\n",
              "      <td>65.1</td>\n",
              "      <td>Northen Ireland</td>\n",
              "    </tr>\n",
              "    <tr>\n",
              "      <th>3</th>\n",
              "      <td>100004</td>\n",
              "      <td>Richard</td>\n",
              "      <td>Dowwd</td>\n",
              "      <td>Male</td>\n",
              "      <td>21</td>\n",
              "      <td>20</td>\n",
              "      <td>70.9</td>\n",
              "      <td>Nothern Ireland</td>\n",
              "    </tr>\n",
              "    <tr>\n",
              "      <th>4</th>\n",
              "      <td>100005</td>\n",
              "      <td>Phil</td>\n",
              "      <td>Arnold</td>\n",
              "      <td>Male</td>\n",
              "      <td>37</td>\n",
              "      <td>30</td>\n",
              "      <td>70.4</td>\n",
              "      <td>Wales</td>\n",
              "    </tr>\n",
              "  </tbody>\n",
              "</table>\n",
              "</div>"
            ],
            "text/plain": [
              "   Custommer ID     Name   Surname  Gender  Age  Age Group  Height  \\\n",
              "0        100001      Zoe  Clarkson  Female   59         50    62.0   \n",
              "1        100002  Carolyn    Donald  Female   58         50    61.2   \n",
              "2        100003     Anna   Chapman  Female   26         20    65.1   \n",
              "3        100004  Richard     Dowwd    Male   21         20    70.9   \n",
              "4        100005     Phil    Arnold    Male   37         30    70.4   \n",
              "\n",
              "            Region  \n",
              "0         Scotland  \n",
              "1         Scotland  \n",
              "2  Northen Ireland  \n",
              "3  Nothern Ireland  \n",
              "4            Wales  "
            ]
          },
          "metadata": {
            "tags": []
          },
          "execution_count": 17
        }
      ]
    },
    {
      "metadata": {
        "id": "OPQhB9ccnG7e",
        "colab_type": "text"
      },
      "cell_type": "markdown",
      "source": [
        "Credits goes to : https://towardsdatascience.com/@aapte.dsml"
      ]
    }
  ]
}